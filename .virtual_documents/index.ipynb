








# Import necessary packages
import pandas as pd
import sqlite3


# Create the database school.sqlite 
conn = sqlite3.connect('school.db')
cur = conn.cursor()





cur.execute('DROP TABLE IF EXISTS contactInfo')


# Your code here
cur.execute(''' CREATE TABLE IF NOT EXISTS contactInfo(firstName TEXT,
lastName TEXT,
role TEXT,
telephone INTEGER,
street TEXT,
city TEXT,
state TEXT,
zipcode INTEGER
)
''')





# Load the list of dictionaries; just run this cell
import pickle

with open('contact_list.pickle', 'rb') as f:
    contacts = pickle.load(f)


print(contacts[0]) 


print(contacts[0].keys())


for contact in contacts:
    try:
        cur.execute('''
            INSERT INTO contactInfo (firstName, lastName, role, telephone, street, city, state, zipcode)
            VALUES (?, ?, ?, ?, ?, ?, ?, ?)
        ''', (
            contact['firstName'],  # Use camelCase as per your dictionary
            contact['lastName'],   # Use camelCase as per your dictionary
            contact['role'],       # Use camelCase as per your dictionary
            contact['telephone '],   # Remove the space in the key
            contact['street'],     # Use camelCase as per your dictionary
            contact['city'],       # Use camelCase as per your dictionary
            contact['state'],      # Use camelCase as per your dictionary
            contact['zipcode ']     # Remove the space in the key
        ))
    except Exception as e:
        print(f"Error inserting contact {contact['firstName']} {contact['lastName']}: {e}")





# Your code here 






# Your code here





# Create the grades table






# Find the duplicate entry



# Delete the duplicate entry



# Check that the duplicate entry was removed






# Update Ed's address



# Query the database to ensure the change was made






# Your code here



